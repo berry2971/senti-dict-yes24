{
  "nbformat": 4,
  "nbformat_minor": 0,
  "metadata": {
    "colab": {
      "name": "senti-dict-yes24",
      "provenance": [],
      "collapsed_sections": [],
      "machine_shape": "hm",
      "include_colab_link": true
    },
    "kernelspec": {
      "name": "python3",
      "display_name": "Python 3"
    }
  },
  "cells": [
    {
      "cell_type": "markdown",
      "metadata": {
        "id": "view-in-github",
        "colab_type": "text"
      },
      "source": [
        "<a href=\"https://colab.research.google.com/github/berry2971/senti-dict-yes24/blob/master/senti_dict_yes24.ipynb\" target=\"_parent\"><img src=\"https://colab.research.google.com/assets/colab-badge.svg\" alt=\"Open In Colab\"/></a>"
      ]
    },
    {
      "cell_type": "markdown",
      "metadata": {
        "id": "qMP5GGMlazan",
        "colab_type": "text"
      },
      "source": [
        "이상훈·최정·김종우(2016), 영역별 맞춤형 감성사전 구축을 통한 영화리뷰 감성분석\n",
        "+\n",
        "Word2Vec"
      ]
    },
    {
      "cell_type": "code",
      "metadata": {
        "id": "uU6iCSwcQsIV",
        "colab_type": "code",
        "colab": {}
      },
      "source": [
        "##### Mount Google drive\n",
        "from google.colab import drive\n",
        "drive.mount('/content/gdrive/')"
      ],
      "execution_count": 0,
      "outputs": []
    },
    {
      "cell_type": "code",
      "metadata": {
        "id": "GJH6refBtDuR",
        "colab_type": "code",
        "colab": {}
      },
      "source": [
        "##### Connect with db (raw text)\n",
        "import sqlite3\n",
        "con1 = sqlite3.connect('/content/gdrive/My Drive/senti/result_2019.db')\n",
        "cur1 = con1.cursor()"
      ],
      "execution_count": 0,
      "outputs": []
    },
    {
      "cell_type": "code",
      "metadata": {
        "id": "sdjL9bw-guzQ",
        "colab_type": "code",
        "colab": {}
      },
      "source": [
        "##### Connect with db (analyzed text)\n",
        "con2 = sqlite3.connect('/content/gdrive/My Drive/senti/result_2019_analyzed.db')\n",
        "con2.execute('CREATE TABLE analysis (RAW TEXT, TAGGED TEXT, REVIEW_STAR_CONTENT INTEGER, REVIEW_STAR_EDITION INTEGER)')"
      ],
      "execution_count": 0,
      "outputs": []
    },
    {
      "cell_type": "code",
      "metadata": {
        "id": "kfC06fSQg6Nc",
        "colab_type": "code",
        "colab": {}
      },
      "source": [
        "##### Prepare pos tagger\n",
        "# When Using konlpy.tag.Okt\n",
        "#!pip install konlpy\n",
        "#from konlpy.tag import Okt\n",
        "#okt = Okt()\n",
        "\n",
        "# When Using Mecab\n",
        "!pip install -v python-mecab-ko\n",
        "import mecab\n",
        "mecab = mecab.MeCab()"
      ],
      "execution_count": 0,
      "outputs": []
    },
    {
      "cell_type": "code",
      "metadata": {
        "id": "fd3RI8P8RWNA",
        "colab_type": "code",
        "colab": {}
      },
      "source": [
        "##### Pos tag and save it into database\n",
        "count = 0\n",
        "for row in cur1.execute(\"SELECT review_content, review_star_content, review_star_edition FROM reviews\"): \n",
        "  con2.execute('INSERT INTO analysis (RAW, TAGGED, REVIEW_STAR_CONTENT, REVIEW_STAR_EDITION) VALUES (?, ?, ?, ?)', [row[0], str(mecab.pos(row[0])), row[1], row[2]])\n",
        "  #print(row)\n",
        "  #print(okt.pos(row[0]))\n",
        "  #print([token for token in okt.pos(row[0]) if token[1]=='Adjective'])\n",
        "  \n",
        "  # Check progress and Commit database\n",
        "  if count % 50000 == 0:\n",
        "    count = count + 1\n",
        "    con2.commit()\n",
        "    print(count)\n",
        "\n",
        "con2.commit()"
      ],
      "execution_count": 0,
      "outputs": []
    },
    {
      "cell_type": "code",
      "metadata": {
        "id": "6q5hL23pc-eB",
        "colab_type": "code",
        "outputId": "56f96f56-8eeb-4108-b84f-907ec45738e5",
        "colab": {
          "base_uri": "https://localhost:8080/",
          "height": 323
        }
      },
      "source": [
        "##### Load database(max_positive, max_negative)\n",
        "con3 = sqlite3.connect('/content/gdrive/My Drive/senti/result_2019_analyzed.db')\n",
        "cur3 = con3.cursor()\n",
        "\n",
        "count = 0\n",
        "num_max_positive = 0\n",
        "num_max_negative = 0\n",
        "max_positive = []   # Objects of positive reviews: REVIEW_STAR_CONTENT + REVIEW_STAR_EDITION == 10\n",
        "max_negative = []   # Objects of negative reviews: REVIEW_STAR+CONTENT + REVIEW_STAR_EDITION <= 7\n",
        "\n",
        "# For get distribution\n",
        "review_star_dist = []\n",
        "for i in range(9):\n",
        "  review_star_dist.append(0)\n",
        "\n",
        "for row in cur3.execute('SELECT * FROM analysis'):\n",
        "  # Check progress\n",
        "  count = count + 1\n",
        "  if count % 50000 == 0:\n",
        "    print(count)\n",
        "  \n",
        "  # Create max_positive, max_negative\n",
        "  # There are many reviews which have perfect score, but there are few reviews which have low score.\n",
        "  # So we set 'positive' as 'content score'+'edition score'==10 and 'negative' as 'content score'+'edition score'<=7\n",
        "  review_star_content = row[2]\n",
        "  review_star_edition = row[3]\n",
        "  review_star_sum = review_star_content + review_star_edition\n",
        "  review_star_dist[review_star_sum - 2] += 1\n",
        "\n",
        "  if review_star_sum == 10:\n",
        "    if num_max_positive < 100000:\n",
        "      max_positive.append(row)\n",
        "    num_max_positive = num_max_positive + 1\n",
        "  if review_star_sum < 8:\n",
        "    if num_max_negative < 100000:\n",
        "      max_negative.append(row)\n",
        "    num_max_negative = num_max_negative + 1\n",
        "\n",
        "print(\"number of max_positive : {a}, number of picked max_positive : {b}\".format(a = num_max_positive, b = len(max_positive)))\n",
        "print(\"number of max_negative : {a}, number of picked max_negative : {b}\".format(a = num_max_negative, b = len(max_negative)))"
      ],
      "execution_count": 0,
      "outputs": [
        {
          "output_type": "stream",
          "text": [
            "50000\n",
            "100000\n",
            "150000\n",
            "200000\n",
            "250000\n",
            "300000\n",
            "350000\n",
            "400000\n",
            "450000\n",
            "500000\n",
            "550000\n",
            "600000\n",
            "650000\n",
            "700000\n",
            "750000\n",
            "number of max_positive : 494226, number of picked max_positive : 100000\n",
            "number of max_negative : 53584, number of picked max_negative : 53584\n"
          ],
          "name": "stdout"
        }
      ]
    },
    {
      "cell_type": "code",
      "metadata": {
        "id": "1nQoU9W_nX8L",
        "colab_type": "code",
        "outputId": "0f2c718e-68e2-4aea-9fcf-b3ed9ebfeb52",
        "colab": {
          "base_uri": "https://localhost:8080/",
          "height": 35
        }
      },
      "source": [
        "review_star_dist"
      ],
      "execution_count": 0,
      "outputs": [
        {
          "output_type": "execute_result",
          "data": {
            "text/plain": [
              "[2410, 749, 2789, 2985, 23223, 21426, 135166, 68379, 494226]"
            ]
          },
          "metadata": {
            "tags": []
          },
          "execution_count": 8
        }
      ]
    },
    {
      "cell_type": "markdown",
      "metadata": {
        "id": "gr-fxpBBjLNN",
        "colab_type": "text"
      },
      "source": [
        "별점 10개 / 별점 2개로 했을 때\n",
        "가장 긍정적인 리뷰: 494226개\n",
        "가장 부정적인 리뷰: 2410개\n",
        "\n",
        "별점 10개 / 별점 2~4개로 했을 때\n",
        "가장 긍정적인 리뷰: 494226개\n",
        "가장 부정적인 리뷰: 5950개\n",
        "\n",
        "별점 10개 / 별점 2~7개로 했을 때\n",
        "가장 긍정적인 리뷰: 494226개\n",
        "가장 부정적인 리뷰: 53584개"
      ]
    },
    {
      "cell_type": "code",
      "metadata": {
        "id": "ceQQgsXO3LBv",
        "colab_type": "code",
        "colab": {}
      },
      "source": [
        "##### Parse into tuples\n",
        "import re\n",
        "parsed_positive_documents = []   # [[(안녕, IC), (~, SL)], [(나, NNP), (도, JX)], …]\n",
        "parsed_negative_documents = []   # [[(안녕, IC), (~, SL)], [(나, NNP), (도, JX)], …]\n",
        "\n",
        "for positive in max_positive:\n",
        "  parsed_positive_document = []\n",
        "  document = positive[1]\n",
        "  word_and_pos_list = re.findall(\"\\((.+?)\\)\", document)\n",
        "  for word_and_pos in word_and_pos_list:\n",
        "    splited = word_and_pos.split(sep=\", \")\n",
        "    if len(splited)==1:\n",
        "      continue\n",
        "    word = splited[0].strip(\"'\").strip('\"')\n",
        "    pos = splited[1].strip(\"'\").strip('\"')\n",
        "    parsed_positive_document.append((word, pos))\n",
        "  parsed_positive_documents.append(parsed_positive_document)\n",
        "\n",
        "for negative in max_negative:\n",
        "  parsed_negative_document = []\n",
        "  document = negative[1]\n",
        "  word_and_pos_list = re.findall(\"\\((.+?)\\)\", document)\n",
        "  for word_and_pos in word_and_pos_list:\n",
        "    splited = word_and_pos.split(sep=\", \")\n",
        "    if len(splited)==1:\n",
        "      continue\n",
        "    word = splited[0].strip(\"'\").strip('\"')\n",
        "    pos = splited[1].strip(\"'\").strip('\"')\n",
        "    parsed_negative_document.append((word, pos))\n",
        "  parsed_negative_documents.append(parsed_negative_document)"
      ],
      "execution_count": 0,
      "outputs": []
    },
    {
      "cell_type": "code",
      "metadata": {
        "id": "1RsQKCeizk1z",
        "colab_type": "code",
        "outputId": "dd9a7921-e5ca-47fe-d498-3776850498e8",
        "colab": {
          "base_uri": "https://localhost:8080/",
          "height": 109
        }
      },
      "source": [
        "##### Create Standard words\n",
        "parsed_posv_documents_integrated = []\n",
        "parsed_negv_documents_integrated = []   # [(안녕, IC), (~, SL), (나, NNP), (도, JX), …]\n",
        "\n",
        "for d in parsed_posv_documents:\n",
        "  for token in d:\n",
        "    if token[1]=='VA':\n",
        "      parsed_posv_documents_integrated.append(token)\n",
        "\n",
        "for d in parsed_negv_documents:\n",
        "  for token in d:\n",
        "    if token[1]=='VA':\n",
        "      parsed_negv_documents_integrated.append(token)\n",
        "\n",
        "from nltk import FreqDist\n",
        "dist_positive = FreqDist(parsed_posv_documents_integrated)\n",
        "dist_negative = FreqDist(parsed_negv_documents_integrated)\n",
        "\n",
        "print(\"Total token number of positive reviews : {}\".format(len(parsed_posv_documents_integrated)))\n",
        "print(dist_positive.most_common(30))\n",
        "print(\"Total token number of negative reviews : {}\".format(len(parsed_negv_documents_integrated)))\n",
        "print(dist_negative.most_common(30))\n",
        "\n",
        "with open(\"/content/gdrive/My Drive/senti/result_2019_standard_words.txt\", \"w\", encoding=\"utf8\") as standard_words:\n",
        "  for p in dist_positive.most_common(30):\n",
        "    word = p[0][0]\n",
        "    freq = p[1]\n",
        "    standard_words.write(word+\"\\t\"+str(freq)+\"\\n\")\n",
        "  standard_words.write(\"\\n\")\n",
        "  for n in dist_negative.most_common(30):\n",
        "    word = n[0][0]\n",
        "    freq = n[1]\n",
        "    standard_words.write(word+\"\\t\"+str(freq)+\"\\n\")"
      ],
      "execution_count": 0,
      "outputs": [
        {
          "output_type": "stream",
          "text": [
            "Total token number of positive reviews : 1106585\n",
            "[(('좋', 'VA'), 178138), (('같', 'VA'), 160815), (('없', 'VA'), 123234), (('있', 'VA'), 119854), (('많', 'VA'), 108425), (('쉽', 'VA'), 55909), (('어렵', 'VA'), 19449), (('그렇', 'VA'), 19414), (('맛있', 'VA'), 18300), (('높', 'VA'), 16779), (('재미있', 'VA'), 16340), (('크', 'VA'), 15972), (('작', 'VA'), 15340), (('힘들', 'VA'), 13798), (('다르', 'VA'), 12034), (('적', 'VA'), 6994), (('재밌', 'VA'), 6569), (('깊', 'VA'), 6389), (('괜찮', 'VA'), 6242), (('싫', 'VA'), 6239), (('편하', 'VA'), 6153), (('즐겁', 'VA'), 6035), (('수많', 'VA'), 5864), (('짧', 'VA'), 5842), (('빠르', 'VA'), 5667), (('어떻', 'VA'), 5661), (('예쁘', 'VA'), 4814), (('늦', 'VA'), 4508), (('낮', 'VA'), 4278), (('새롭', 'VA'), 4152)]\n",
            "Total token number of negative reviews : 525768\n",
            "[(('없', 'VA'), 83525), (('같', 'VA'), 72904), (('있', 'VA'), 61191), (('좋', 'VA'), 60341), (('많', 'VA'), 45397), (('쉽', 'VA'), 17251), (('그렇', 'VA'), 14785), (('어렵', 'VA'), 7854), (('재미있', 'VA'), 7788), (('크', 'VA'), 7617), (('작', 'VA'), 6773), (('다르', 'VA'), 6548), (('높', 'VA'), 5807), (('깊', 'VA'), 5792), (('힘들', 'VA'), 5732), (('괜찮', 'VA'), 4854), (('짧', 'VA'), 4125), (('적', 'VA'), 3822), (('수많', 'VA'), 3524), (('싫', 'VA'), 3488), (('아쉽', 'VA'), 3095), (('어떻', 'VA'), 2875), (('재밌', 'VA'), 2689), (('젊', 'VA'), 2384), (('가볍', 'VA'), 2224), (('옳', 'VA'), 2107), (('길', 'VA'), 2074), (('낮', 'VA'), 1976), (('새롭', 'VA'), 1927), (('편하', 'VA'), 1887)]\n"
          ],
          "name": "stdout"
        }
      ]
    },
    {
      "cell_type": "markdown",
      "metadata": {
        "id": "bfLOBu8KsAsz",
        "colab_type": "text"
      },
      "source": [
        "Standard words(긍정기준단어 집합, 부정기준단어 집합) 생성 결과\n",
        "\n",
        "![image.png](data:image/png;base64,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)"
      ]
    },
    {
      "cell_type": "code",
      "metadata": {
        "id": "0Zr_DjyKir99",
        "colab_type": "code",
        "colab": {}
      },
      "source": [
        "##### Preprocessing for Word2Vec\n",
        "pdoc_posv = parsed_positive_documents\n",
        "pdoc_negv = parsed_negative_documents\n",
        "\n",
        "docs_va = []   # [[좋, 예쁘], [잘생겼, 괜찮], …]\n",
        "docs_mag = []\n",
        "\n",
        "for p1 in pdoc_posv:\n",
        "  temp1 = []\n",
        "  temp2 = []\n",
        "  for p2 in p1:\n",
        "    if p2[1] == 'VA':\n",
        "      temp1.append(p2[0])\n",
        "    if p2[1] == 'MAG':\n",
        "      temp2.append(p2[0])\n",
        "  if temp1: docs_va.append(temp1)\n",
        "  if temp2: docs_mag.append(temp2)\n",
        "\n",
        "for p1 in pdoc_negv:\n",
        "  temp1 = []\n",
        "  temp2 = []\n",
        "  for p2 in p1:\n",
        "    if p2[1] == 'VA':\n",
        "      temp1.append(p2[0])\n",
        "    if p2[1] == 'MAG':\n",
        "      temp2.append(p2[0])\n",
        "  if temp1: docs_va.append(temp1)\n",
        "  if temp2: docs_mag.append(temp2)\n",
        "\n",
        "from gensim.models import Word2Vec\n",
        "model_va = Word2Vec(docs_va, size=100, window=5, min_count=5, workers=4, sg=1, sample=0.00001)\n",
        "model_mag = Word2Vec(docs_mag, size=100, window=5, min_count=5, workers=4, sg=1, sample=0.00001)"
      ],
      "execution_count": 0,
      "outputs": []
    },
    {
      "cell_type": "markdown",
      "metadata": {
        "id": "chl9XlG0tUMN",
        "colab_type": "text"
      },
      "source": [
        "# ↓↓↓↓↓↓↓↓↓↓ 결과 보기 ↓↓↓↓↓↓↓↓↓↓"
      ]
    },
    {
      "cell_type": "code",
      "metadata": {
        "id": "NnmCVfEc2DOS",
        "colab_type": "code",
        "outputId": "a6989eea-dcb4-4fa6-b7fd-eb60e0878825",
        "colab": {
          "base_uri": "https://localhost:8080/",
          "height": 109
        }
      },
      "source": [
        "##### Implement Word2Vec\n",
        "# Input standard words list\n",
        "posv_top_15 = ['좋', '같', '많', '쉽', '어렵', '맛있', '높', '작', '힘들', '재밌', '편하', '즐겁', '빠르', '예쁘', '늦', '낮']\n",
        "negv_top_15 = ['없', '있', '그렇' ,'재미있', '크', '다르', '적', '깊', '괜찮', '싫', '수많', '짧', '어떻', '아쉽', '젊', '가볍']\n",
        "\n",
        "posv_list = []\n",
        "negv_list = []\n",
        "\n",
        "# Print result of VA\n",
        "for w in posv_top_15:\n",
        "  model_result1 = model_va.wv.most_similar(w)\n",
        "  for t in model_result1:\n",
        "    posv_list.append(t)\n",
        "\n",
        "for w in negv_top_15:\n",
        "  model_result1 = model_va.wv.most_similar(w)\n",
        "  for t in model_result1:\n",
        "    negv_list.append(t)\n",
        "\n",
        "print(posv_list)\n",
        "print(negv_list)"
      ],
      "execution_count": 0,
      "outputs": [
        {
          "output_type": "stream",
          "text": [
            "[('맛있', 0.9892761707305908), ('같', 0.9864038825035095), ('예쁘', 0.9770746231079102), ('이쁘', 0.9745010137557983), ('쉽', 0.973604142665863), ('맛없', 0.9719046354293823), ('맵', 0.9717727899551392), ('색다르', 0.9690654873847961), ('맛나', 0.9687920212745667), ('많', 0.968306839466095), ('많', 0.9924103021621704), ('이쁘', 0.9901783466339111), ('예쁘', 0.9900972843170166), ('쉽', 0.9900779724121094), ('맵', 0.9900453090667725), ('맛없', 0.989933431148529), ('괜찮', 0.9885408878326416), ('편하', 0.9884423017501831), ('어렵', 0.9882574081420898), ('색다르', 0.98732990026474), ('없', 0.9958756566047668), ('어렵', 0.9951704144477844), ('적', 0.9950512051582336), ('편하', 0.9947733879089355), ('괜찮', 0.9944396018981934), ('힘들', 0.994149386882782), ('손색없', 0.9939283132553101), ('하얗', 0.9938487410545349), ('곱', 0.993812620639801), ('싱거우', 0.9937735795974731), ('맵', 0.998334527015686), ('맛없', 0.9982907772064209), ('예쁘', 0.9976456165313721), ('이쁘', 0.9976210594177246), ('손쉽', 0.9975968599319458), ('색다르', 0.9975218772888184), ('찹', 0.9974874258041382), ('즐겁', 0.9973312616348267), ('맛나', 0.9973101615905762), ('귀엽', 0.9972180128097534), ('만', 0.9985295534133911), ('편하', 0.998361349105835), ('연하', 0.9982882738113403), ('손색없', 0.9982303380966187), ('싱거우', 0.9982122182846069), ('부럽', 0.9981771111488342), ('문제없', 0.9981656074523926), ('비싸', 0.9981623291969299), ('서글프', 0.998145580291748), ('얄궂', 0.9981358647346497), ('좋', 0.9892763495445251), ('예쁘', 0.963697075843811), ('같', 0.963586688041687), ('이쁘', 0.9583720564842224), ('쉽', 0.9560608267784119), ('맛없', 0.9552784562110901), ('맵', 0.9540127515792847), ('맛나', 0.9537057876586914), ('색다르', 0.9523024559020996), ('손쉽', 0.9471990466117859), ('낮', 0.9980687499046326), ('나', 0.9976546764373779), ('크', 0.9973714351654053), ('가깝', 0.9972062110900879), ('그렇', 0.996985673904419), ('옳', 0.9969459772109985), ('어리석', 0.9969265460968018), ('이롭', 0.9968118667602539), ('뒤늦', 0.9967842102050781), ('좁', 0.9967572093009949), ('뻔하', 0.997962236404419), ('시덥잖', 0.9977357983589172), ('이롭', 0.9977208375930786), ('짙', 0.9976770281791687), ('드높', 0.9976470470428467), ('힘차', 0.9976136684417725), ('게으르', 0.9975928068161011), ('서투르', 0.9975829124450684), ('하찮', 0.9975732564926147), ('해롭', 0.9975539445877075), ('무겁', 0.9985558986663818), ('어려우', 0.9985101819038391), ('묽', 0.998428225517273), ('하얗', 0.9983903765678406), ('더우', 0.9983344078063965), ('비리', 0.9983101487159729), ('차갑', 0.998296856880188), ('가벼우', 0.9982813000679016), ('연하', 0.9982603192329407), ('그럴싸하', 0.998259425163269), ('귀엽', 0.9973263144493103), ('배고프', 0.9972220063209534), ('동그랗', 0.9972176551818848), ('따갑', 0.9971601963043213), ('알차', 0.9971212148666382), ('어리', 0.9971146583557129), ('마뜩찮', 0.997108519077301), ('따숩', 0.9970670342445374), ('멋쩍', 0.9970607757568359), ('가볍', 0.997046947479248), ('괜찮', 0.9987518787384033), ('만', 0.9986335039138794), ('부드럽', 0.9986203908920288), ('곱', 0.9986030459403992), ('손색없', 0.9985014796257019), ('부드러우', 0.9984339475631714), ('반갑', 0.9984215497970581), ('동그랗', 0.9984114766120911), ('차갑', 0.9983991384506226), ('어렵', 0.998361349105835), ('기쁘', 0.9985663294792175), ('반갑', 0.9985542893409729), ('가볍', 0.9985313415527344), ('멋지', 0.9985049366950989), ('부드럽', 0.9984652400016785), ('손쉽', 0.9984039068222046), ('귀엽', 0.9981962442398071), ('동그랗', 0.9981707334518433), ('알맞', 0.9981695413589478), ('맛없', 0.9981536865234375), ('부끄러우', 0.9989066123962402), ('굳세', 0.9988925457000732), ('쓰라리', 0.9988734126091003), ('햇갈리', 0.9988182783126831), ('실없', 0.9988100528717041), ('깜', 0.9988047480583191), ('정겹', 0.9987983107566833), ('메마르', 0.9987927675247192), ('가까우', 0.9987884759902954), ('박하', 0.9987860321998596), ('맛없', 0.9981838464736938), ('이쁘', 0.9979885816574097), ('맵', 0.9977503418922424), ('쉽', 0.9976456165313721), ('맛나', 0.9974031448364258), ('색다르', 0.9973042011260986), ('손쉽', 0.9968936443328857), ('찹', 0.9966847896575928), ('귀엽', 0.9964508414268494), ('즐겁', 0.9963592290878296), ('보잘것없', 0.9986158013343811), ('어질', 0.9984934329986572), ('후하', 0.9984774589538574), ('부질없', 0.9984621405601501), ('빈틈없', 0.9984620809555054), ('쿠리', 0.9984424114227295), ('차가우', 0.9984405040740967), ('생뚱맞', 0.9984370470046997), ('드물', 0.9984291791915894), ('밤늦', 0.9984288215637207), ('높', 0.9980689287185669), ('가깝', 0.9973536133766174), ('크', 0.9970271587371826), ('이롭', 0.9969855546951294), ('어리석', 0.9969279170036316), ('엄청나', 0.9969214797019958), ('덧없', 0.9968951344490051), ('그렇', 0.9967767000198364), ('나', 0.9967381358146667), ('뒤늦', 0.9967314004898071)]\n",
            "[('적', 0.9969674348831177), ('많', 0.9958757162094116), ('다르', 0.9957916736602783), ('강하', 0.995654284954071), ('틀림없', 0.9956379532814026), ('있', 0.9956191182136536), ('나', 0.9952108263969421), ('상관없', 0.9950911998748779), ('어떻', 0.9950432777404785), ('힘들', 0.9950322508811951), ('없', 0.9956190586090088), ('많', 0.9920417666435242), ('적', 0.9909771084785461), ('다르', 0.9896156787872314), ('힘들', 0.9882560968399048), ('틀림없', 0.9876998662948608), ('강하', 0.9873394966125488), ('어렵', 0.9872639775276184), ('나', 0.9871390461921692), ('상관없', 0.986924946308136), ('크', 0.9982784986495972), ('엄청나', 0.9981857538223267), ('가깝', 0.9981642365455627), ('어리석', 0.9981114864349365), ('나', 0.9981051087379456), ('수많', 0.9980612993240356), ('밝', 0.9980220794677734), ('강하', 0.9979312419891357), ('낫', 0.9978824853897095), ('이롭', 0.997878909111023), ('따갑', 0.9983965158462524), ('연하', 0.9983247518539429), ('억세', 0.9982001781463623), ('서럽', 0.9981985688209534), ('무르', 0.9981913566589355), ('똥그랗', 0.9981747269630432), ('지겨우', 0.9981551766395569), ('흐드러지', 0.9981542825698853), ('더러우', 0.9981160163879395), ('부드러우', 0.9981038570404053), ('이롭', 0.9988172650337219), ('엄청나', 0.9987198114395142), ('뻔하', 0.9986973404884338), ('시리', 0.998634397983551), ('드물', 0.9986304044723511), ('미심쩍', 0.9986258745193481), ('뒤늦', 0.9986172914505005), ('드넓', 0.9986096620559692), ('지나치', 0.9986087083816528), ('낫', 0.9985496997833252), ('틀림없', 0.998382031917572), ('상관없', 0.9982588291168213), ('어려우', 0.998225212097168), ('하얗', 0.998201310634613), ('힘들', 0.998200535774231), ('놀랍', 0.9981791973114014), ('싱거우', 0.9981620907783508), ('묽', 0.9981290698051453), ('애처롭', 0.9981232285499573), ('짝', 0.9981107711791992), ('애처롭', 0.9983368515968323), ('상관없', 0.9983127117156982), ('강하', 0.9982894659042358), ('틀림없', 0.998255729675293), ('어리석', 0.9982539415359497), ('드넓', 0.9982255697250366), ('값싸', 0.9982081055641174), ('차', 0.9981604218482971), ('가파르', 0.9981397390365601), ('부질없', 0.998113214969635), ('붉', 0.998943567276001), ('철없', 0.9988580942153931), ('따갑', 0.9987800717353821), ('후하', 0.9987720251083374), ('난데없', 0.9987531304359436), ('읎', 0.9987496137619019), ('짝', 0.9987317323684692), ('덥', 0.9987271428108215), ('흉하', 0.9987238645553589), ('헤프', 0.9987185001373291), ('편하', 0.9987518787384033), ('손색없', 0.9986227750778198), ('부드럽', 0.9985470175743103), ('곱', 0.9985220432281494), ('싱거우', 0.9984503984451294), ('서글프', 0.9984328746795654), ('부드러우', 0.9983998537063599), ('하얗', 0.9983915090560913), ('죠', 0.9983835220336914), ('싱그럽', 0.9983136057853699), ('멋적', 0.9981991052627563), ('아름다', 0.9980994462966919), ('지겹', 0.9980816841125488), ('싱거우', 0.9980117082595825), ('짝', 0.997990071773529), ('둥글', 0.9979732036590576), ('어려우', 0.9979591369628906), ('유별나', 0.9979466795921326), ('질기', 0.9979414939880371), ('외로우', 0.9979395866394043), ('어처구니없', 0.9987055063247681), ('이롭', 0.9986523389816284), ('읎', 0.9986263513565063), ('터무니없', 0.9986112117767334), ('줄기차', 0.998568594455719), ('가깝', 0.9985086917877197), ('어질', 0.9984794855117798), ('뻔하', 0.9984666109085083), ('경악스럽', 0.9984601736068726), ('햇갈리', 0.9984511137008667), ('남부럽', 0.9989932179450989), ('파랗', 0.9989698529243469), ('참되', 0.99896240234375), ('짓궂', 0.9989022016525269), ('묽', 0.9988920092582703), ('영락없', 0.9988791346549988), ('동글', 0.9988760948181152), ('역겹', 0.9988757371902466), ('볼품없', 0.9988722205162048), ('연하', 0.9988710880279541), ('짝', 0.9989888072013855), ('선하', 0.9989460706710815), ('야하', 0.9989331960678101), ('끝없', 0.9988795518875122), ('상관없', 0.9988752603530884), ('얄궂', 0.9988657236099243), ('짓궂', 0.9988410472869873), ('햇갈리', 0.9988389611244202), ('지긋지긋하', 0.9988198280334473), ('철없', 0.9988070726394653), ('노랗', 0.9991359710693359), ('뜻있', 0.9990959763526917), ('더우', 0.999077320098877), ('흐드러지', 0.9990561604499817), ('영락없', 0.9990102052688599), ('햇갈리', 0.9990006685256958), ('싱그럽', 0.998984694480896), ('깨달', 0.9989842176437378), ('억세', 0.998966634273529), ('읎', 0.9989649057388306), ('크', 0.9975836277008057), ('이롭', 0.9974856376647949), ('넓', 0.9974238872528076), ('그렇', 0.9974075555801392), ('수많', 0.9973862767219543), ('가깝', 0.9972929954528809), ('늦', 0.9972738027572632), ('엄청나', 0.9972375631332397), ('해롭', 0.9972330927848816), ('드물', 0.9971746206283569), ('부드럽', 0.9987366199493408), ('반갑', 0.9986934065818787), ('손색없', 0.9986187219619751), ('즐겁', 0.9985314607620239), ('부드러우', 0.9985010623931885), ('알차', 0.9984822273254395), ('손쉽', 0.998421311378479), ('싱그럽', 0.9984209537506104), ('동그랗', 0.9984207153320312), ('곱', 0.9983915686607361)]\n"
          ],
          "name": "stdout"
        },
        {
          "output_type": "stream",
          "text": [
            "/usr/local/lib/python3.6/dist-packages/gensim/matutils.py:737: FutureWarning: Conversion of the second argument of issubdtype from `int` to `np.signedinteger` is deprecated. In future, it will be treated as `np.int64 == np.dtype(int).type`.\n",
            "  if np.issubdtype(vec.dtype, np.int):\n"
          ],
          "name": "stderr"
        }
      ]
    }
  ]
}